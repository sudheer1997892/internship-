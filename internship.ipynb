{
 "cells": [
  {
   "cell_type": "code",
   "execution_count": 1,
   "id": "08da8efe",
   "metadata": {},
   "outputs": [],
   "source": [
    "import pandas as pd"
   ]
  },
  {
   "cell_type": "code",
   "execution_count": 2,
   "id": "ca85d680",
   "metadata": {},
   "outputs": [],
   "source": [
    "import os\n",
    "os.chdir(r\"C:\\Users\\HP\\Downloads\")"
   ]
  },
  {
   "cell_type": "code",
   "execution_count": 3,
   "id": "aa8416cf",
   "metadata": {},
   "outputs": [],
   "source": [
    "df=pd.read_csv(\"device_data_1.xls - Sheet0.csv\")"
   ]
  },
  {
   "cell_type": "code",
   "execution_count": 4,
   "id": "3e6013b4",
   "metadata": {},
   "outputs": [
    {
     "data": {
      "text/html": [
       "<div>\n",
       "<style scoped>\n",
       "    .dataframe tbody tr th:only-of-type {\n",
       "        vertical-align: middle;\n",
       "    }\n",
       "\n",
       "    .dataframe tbody tr th {\n",
       "        vertical-align: top;\n",
       "    }\n",
       "\n",
       "    .dataframe thead th {\n",
       "        text-align: right;\n",
       "    }\n",
       "</style>\n",
       "<table border=\"1\" class=\"dataframe\">\n",
       "  <thead>\n",
       "    <tr style=\"text-align: right;\">\n",
       "      <th></th>\n",
       "      <th>Time</th>\n",
       "      <th>Devicename</th>\n",
       "      <th>Temperature</th>\n",
       "      <th>TDS</th>\n",
       "      <th>PH</th>\n",
       "      <th>DO</th>\n",
       "    </tr>\n",
       "  </thead>\n",
       "  <tbody>\n",
       "    <tr>\n",
       "      <th>0</th>\n",
       "      <td>Wed Jul 07 2021 14:15:09 GMT+0530 (India Stand...</td>\n",
       "      <td>867378035207325</td>\n",
       "      <td>29.0625</td>\n",
       "      <td>0.0000</td>\n",
       "      <td>13.61598</td>\n",
       "      <td>9.91</td>\n",
       "    </tr>\n",
       "    <tr>\n",
       "      <th>1</th>\n",
       "      <td>Wed Jul 07 2021 14:16:14 GMT+0530 (India Stand...</td>\n",
       "      <td>867378035207325</td>\n",
       "      <td>29.0625</td>\n",
       "      <td>0.0000</td>\n",
       "      <td>13.12313</td>\n",
       "      <td>9.90</td>\n",
       "    </tr>\n",
       "    <tr>\n",
       "      <th>2</th>\n",
       "      <td>Wed Jul 07 2021 14:17:18 GMT+0530 (India Stand...</td>\n",
       "      <td>867378035207325</td>\n",
       "      <td>29.0000</td>\n",
       "      <td>0.0000</td>\n",
       "      <td>13.55723</td>\n",
       "      <td>9.90</td>\n",
       "    </tr>\n",
       "    <tr>\n",
       "      <th>3</th>\n",
       "      <td>Wed Jul 07 2021 14:18:23 GMT+0530 (India Stand...</td>\n",
       "      <td>867378035207325</td>\n",
       "      <td>29.0625</td>\n",
       "      <td>0.0000</td>\n",
       "      <td>14.00000</td>\n",
       "      <td>9.90</td>\n",
       "    </tr>\n",
       "    <tr>\n",
       "      <th>4</th>\n",
       "      <td>Wed Jul 07 2021 14:19:28 GMT+0530 (India Stand...</td>\n",
       "      <td>867378035207325</td>\n",
       "      <td>29.0625</td>\n",
       "      <td>0.0000</td>\n",
       "      <td>14.00000</td>\n",
       "      <td>9.90</td>\n",
       "    </tr>\n",
       "    <tr>\n",
       "      <th>...</th>\n",
       "      <td>...</td>\n",
       "      <td>...</td>\n",
       "      <td>...</td>\n",
       "      <td>...</td>\n",
       "      <td>...</td>\n",
       "      <td>...</td>\n",
       "    </tr>\n",
       "    <tr>\n",
       "      <th>1145</th>\n",
       "      <td>Wed Jul 28 2021 17:31:18 GMT+0530 (India Stand...</td>\n",
       "      <td>867378035207325</td>\n",
       "      <td>30.0625</td>\n",
       "      <td>127.5950</td>\n",
       "      <td>14.00000</td>\n",
       "      <td>7.84</td>\n",
       "    </tr>\n",
       "    <tr>\n",
       "      <th>1146</th>\n",
       "      <td>Wed Jul 28 2021 17:32:23 GMT+0530 (India Stand...</td>\n",
       "      <td>867378035207325</td>\n",
       "      <td>30.0625</td>\n",
       "      <td>125.1168</td>\n",
       "      <td>14.00000</td>\n",
       "      <td>7.16</td>\n",
       "    </tr>\n",
       "    <tr>\n",
       "      <th>1147</th>\n",
       "      <td>Wed Jul 28 2021 17:33:28 GMT+0530 (India Stand...</td>\n",
       "      <td>867378035207325</td>\n",
       "      <td>30.1250</td>\n",
       "      <td>141.9695</td>\n",
       "      <td>14.00000</td>\n",
       "      <td>6.79</td>\n",
       "    </tr>\n",
       "    <tr>\n",
       "      <th>1148</th>\n",
       "      <td>Wed Jul 28 2021 17:34:32 GMT+0530 (India Stand...</td>\n",
       "      <td>867378035207325</td>\n",
       "      <td>30.1250</td>\n",
       "      <td>142.7360</td>\n",
       "      <td>14.00000</td>\n",
       "      <td>6.50</td>\n",
       "    </tr>\n",
       "    <tr>\n",
       "      <th>1149</th>\n",
       "      <td>Wed Jul 28 2021 17:35:37 GMT+0530 (India Stand...</td>\n",
       "      <td>867378035207325</td>\n",
       "      <td>30.0625</td>\n",
       "      <td>124.2934</td>\n",
       "      <td>14.00000</td>\n",
       "      <td>6.34</td>\n",
       "    </tr>\n",
       "  </tbody>\n",
       "</table>\n",
       "<p>1150 rows × 6 columns</p>\n",
       "</div>"
      ],
      "text/plain": [
       "                                                   Time       Devicename  \\\n",
       "0     Wed Jul 07 2021 14:15:09 GMT+0530 (India Stand...  867378035207325   \n",
       "1     Wed Jul 07 2021 14:16:14 GMT+0530 (India Stand...  867378035207325   \n",
       "2     Wed Jul 07 2021 14:17:18 GMT+0530 (India Stand...  867378035207325   \n",
       "3     Wed Jul 07 2021 14:18:23 GMT+0530 (India Stand...  867378035207325   \n",
       "4     Wed Jul 07 2021 14:19:28 GMT+0530 (India Stand...  867378035207325   \n",
       "...                                                 ...              ...   \n",
       "1145  Wed Jul 28 2021 17:31:18 GMT+0530 (India Stand...  867378035207325   \n",
       "1146  Wed Jul 28 2021 17:32:23 GMT+0530 (India Stand...  867378035207325   \n",
       "1147  Wed Jul 28 2021 17:33:28 GMT+0530 (India Stand...  867378035207325   \n",
       "1148  Wed Jul 28 2021 17:34:32 GMT+0530 (India Stand...  867378035207325   \n",
       "1149  Wed Jul 28 2021 17:35:37 GMT+0530 (India Stand...  867378035207325   \n",
       "\n",
       "      Temperature       TDS        PH    DO  \n",
       "0         29.0625    0.0000  13.61598  9.91  \n",
       "1         29.0625    0.0000  13.12313  9.90  \n",
       "2         29.0000    0.0000  13.55723  9.90  \n",
       "3         29.0625    0.0000  14.00000  9.90  \n",
       "4         29.0625    0.0000  14.00000  9.90  \n",
       "...           ...       ...       ...   ...  \n",
       "1145      30.0625  127.5950  14.00000  7.84  \n",
       "1146      30.0625  125.1168  14.00000  7.16  \n",
       "1147      30.1250  141.9695  14.00000  6.79  \n",
       "1148      30.1250  142.7360  14.00000  6.50  \n",
       "1149      30.0625  124.2934  14.00000  6.34  \n",
       "\n",
       "[1150 rows x 6 columns]"
      ]
     },
     "execution_count": 4,
     "metadata": {},
     "output_type": "execute_result"
    }
   ],
   "source": [
    "df"
   ]
  },
  {
   "cell_type": "code",
   "execution_count": 5,
   "id": "7ce3aaf1",
   "metadata": {},
   "outputs": [],
   "source": [
    "df=df.drop(columns=[\"Time\",\"Devicename\"])"
   ]
  },
  {
   "cell_type": "code",
   "execution_count": 6,
   "id": "93725cf7",
   "metadata": {},
   "outputs": [
    {
     "data": {
      "text/html": [
       "<div>\n",
       "<style scoped>\n",
       "    .dataframe tbody tr th:only-of-type {\n",
       "        vertical-align: middle;\n",
       "    }\n",
       "\n",
       "    .dataframe tbody tr th {\n",
       "        vertical-align: top;\n",
       "    }\n",
       "\n",
       "    .dataframe thead th {\n",
       "        text-align: right;\n",
       "    }\n",
       "</style>\n",
       "<table border=\"1\" class=\"dataframe\">\n",
       "  <thead>\n",
       "    <tr style=\"text-align: right;\">\n",
       "      <th></th>\n",
       "      <th>Temperature</th>\n",
       "      <th>TDS</th>\n",
       "      <th>PH</th>\n",
       "      <th>DO</th>\n",
       "    </tr>\n",
       "  </thead>\n",
       "  <tbody>\n",
       "    <tr>\n",
       "      <th>0</th>\n",
       "      <td>29.0625</td>\n",
       "      <td>0.0000</td>\n",
       "      <td>13.61598</td>\n",
       "      <td>9.91</td>\n",
       "    </tr>\n",
       "    <tr>\n",
       "      <th>1</th>\n",
       "      <td>29.0625</td>\n",
       "      <td>0.0000</td>\n",
       "      <td>13.12313</td>\n",
       "      <td>9.90</td>\n",
       "    </tr>\n",
       "    <tr>\n",
       "      <th>2</th>\n",
       "      <td>29.0000</td>\n",
       "      <td>0.0000</td>\n",
       "      <td>13.55723</td>\n",
       "      <td>9.90</td>\n",
       "    </tr>\n",
       "    <tr>\n",
       "      <th>3</th>\n",
       "      <td>29.0625</td>\n",
       "      <td>0.0000</td>\n",
       "      <td>14.00000</td>\n",
       "      <td>9.90</td>\n",
       "    </tr>\n",
       "    <tr>\n",
       "      <th>4</th>\n",
       "      <td>29.0625</td>\n",
       "      <td>0.0000</td>\n",
       "      <td>14.00000</td>\n",
       "      <td>9.90</td>\n",
       "    </tr>\n",
       "    <tr>\n",
       "      <th>...</th>\n",
       "      <td>...</td>\n",
       "      <td>...</td>\n",
       "      <td>...</td>\n",
       "      <td>...</td>\n",
       "    </tr>\n",
       "    <tr>\n",
       "      <th>1145</th>\n",
       "      <td>30.0625</td>\n",
       "      <td>127.5950</td>\n",
       "      <td>14.00000</td>\n",
       "      <td>7.84</td>\n",
       "    </tr>\n",
       "    <tr>\n",
       "      <th>1146</th>\n",
       "      <td>30.0625</td>\n",
       "      <td>125.1168</td>\n",
       "      <td>14.00000</td>\n",
       "      <td>7.16</td>\n",
       "    </tr>\n",
       "    <tr>\n",
       "      <th>1147</th>\n",
       "      <td>30.1250</td>\n",
       "      <td>141.9695</td>\n",
       "      <td>14.00000</td>\n",
       "      <td>6.79</td>\n",
       "    </tr>\n",
       "    <tr>\n",
       "      <th>1148</th>\n",
       "      <td>30.1250</td>\n",
       "      <td>142.7360</td>\n",
       "      <td>14.00000</td>\n",
       "      <td>6.50</td>\n",
       "    </tr>\n",
       "    <tr>\n",
       "      <th>1149</th>\n",
       "      <td>30.0625</td>\n",
       "      <td>124.2934</td>\n",
       "      <td>14.00000</td>\n",
       "      <td>6.34</td>\n",
       "    </tr>\n",
       "  </tbody>\n",
       "</table>\n",
       "<p>1150 rows × 4 columns</p>\n",
       "</div>"
      ],
      "text/plain": [
       "      Temperature       TDS        PH    DO\n",
       "0         29.0625    0.0000  13.61598  9.91\n",
       "1         29.0625    0.0000  13.12313  9.90\n",
       "2         29.0000    0.0000  13.55723  9.90\n",
       "3         29.0625    0.0000  14.00000  9.90\n",
       "4         29.0625    0.0000  14.00000  9.90\n",
       "...           ...       ...       ...   ...\n",
       "1145      30.0625  127.5950  14.00000  7.84\n",
       "1146      30.0625  125.1168  14.00000  7.16\n",
       "1147      30.1250  141.9695  14.00000  6.79\n",
       "1148      30.1250  142.7360  14.00000  6.50\n",
       "1149      30.0625  124.2934  14.00000  6.34\n",
       "\n",
       "[1150 rows x 4 columns]"
      ]
     },
     "execution_count": 6,
     "metadata": {},
     "output_type": "execute_result"
    }
   ],
   "source": [
    "df"
   ]
  },
  {
   "cell_type": "code",
   "execution_count": 10,
   "id": "30a4d09b",
   "metadata": {},
   "outputs": [],
   "source": [
    "import seaborn as sns"
   ]
  },
  {
   "cell_type": "markdown",
   "id": "20db8d07",
   "metadata": {},
   "source": [
    "# Exploratory Data analysis"
   ]
  },
  {
   "cell_type": "markdown",
   "id": "3a85ff0e",
   "metadata": {},
   "source": [
    "#### Data preprocessing\n",
    "### No missing values"
   ]
  },
  {
   "cell_type": "code",
   "execution_count": 11,
   "id": "7d76ca01",
   "metadata": {},
   "outputs": [
    {
     "data": {
      "text/html": [
       "<div>\n",
       "<style scoped>\n",
       "    .dataframe tbody tr th:only-of-type {\n",
       "        vertical-align: middle;\n",
       "    }\n",
       "\n",
       "    .dataframe tbody tr th {\n",
       "        vertical-align: top;\n",
       "    }\n",
       "\n",
       "    .dataframe thead th {\n",
       "        text-align: right;\n",
       "    }\n",
       "</style>\n",
       "<table border=\"1\" class=\"dataframe\">\n",
       "  <thead>\n",
       "    <tr style=\"text-align: right;\">\n",
       "      <th></th>\n",
       "      <th>Temperature</th>\n",
       "      <th>TDS</th>\n",
       "      <th>PH</th>\n",
       "      <th>DO</th>\n",
       "    </tr>\n",
       "  </thead>\n",
       "  <tbody>\n",
       "    <tr>\n",
       "      <th>count</th>\n",
       "      <td>1150.000000</td>\n",
       "      <td>1150.000000</td>\n",
       "      <td>1150.000000</td>\n",
       "      <td>1150.000000</td>\n",
       "    </tr>\n",
       "    <tr>\n",
       "      <th>mean</th>\n",
       "      <td>26.042283</td>\n",
       "      <td>110.163128</td>\n",
       "      <td>5.813235</td>\n",
       "      <td>3.270148</td>\n",
       "    </tr>\n",
       "    <tr>\n",
       "      <th>std</th>\n",
       "      <td>1.265751</td>\n",
       "      <td>57.359872</td>\n",
       "      <td>1.716083</td>\n",
       "      <td>1.345019</td>\n",
       "    </tr>\n",
       "    <tr>\n",
       "      <th>min</th>\n",
       "      <td>24.875000</td>\n",
       "      <td>0.000000</td>\n",
       "      <td>4.875184</td>\n",
       "      <td>1.070000</td>\n",
       "    </tr>\n",
       "    <tr>\n",
       "      <th>25%</th>\n",
       "      <td>25.500000</td>\n",
       "      <td>124.877675</td>\n",
       "      <td>5.312549</td>\n",
       "      <td>2.610000</td>\n",
       "    </tr>\n",
       "    <tr>\n",
       "      <th>50%</th>\n",
       "      <td>25.687500</td>\n",
       "      <td>133.931700</td>\n",
       "      <td>5.413732</td>\n",
       "      <td>3.100000</td>\n",
       "    </tr>\n",
       "    <tr>\n",
       "      <th>75%</th>\n",
       "      <td>25.812500</td>\n",
       "      <td>136.523500</td>\n",
       "      <td>5.524703</td>\n",
       "      <td>3.450000</td>\n",
       "    </tr>\n",
       "    <tr>\n",
       "      <th>max</th>\n",
       "      <td>34.750000</td>\n",
       "      <td>744.276200</td>\n",
       "      <td>14.000000</td>\n",
       "      <td>9.940000</td>\n",
       "    </tr>\n",
       "  </tbody>\n",
       "</table>\n",
       "</div>"
      ],
      "text/plain": [
       "       Temperature          TDS           PH           DO\n",
       "count  1150.000000  1150.000000  1150.000000  1150.000000\n",
       "mean     26.042283   110.163128     5.813235     3.270148\n",
       "std       1.265751    57.359872     1.716083     1.345019\n",
       "min      24.875000     0.000000     4.875184     1.070000\n",
       "25%      25.500000   124.877675     5.312549     2.610000\n",
       "50%      25.687500   133.931700     5.413732     3.100000\n",
       "75%      25.812500   136.523500     5.524703     3.450000\n",
       "max      34.750000   744.276200    14.000000     9.940000"
      ]
     },
     "execution_count": 11,
     "metadata": {},
     "output_type": "execute_result"
    }
   ],
   "source": [
    "df.describe()"
   ]
  },
  {
   "cell_type": "code",
   "execution_count": 12,
   "id": "e14ead43",
   "metadata": {},
   "outputs": [
    {
     "data": {
      "text/html": [
       "<div>\n",
       "<style scoped>\n",
       "    .dataframe tbody tr th:only-of-type {\n",
       "        vertical-align: middle;\n",
       "    }\n",
       "\n",
       "    .dataframe tbody tr th {\n",
       "        vertical-align: top;\n",
       "    }\n",
       "\n",
       "    .dataframe thead th {\n",
       "        text-align: right;\n",
       "    }\n",
       "</style>\n",
       "<table border=\"1\" class=\"dataframe\">\n",
       "  <thead>\n",
       "    <tr style=\"text-align: right;\">\n",
       "      <th></th>\n",
       "      <th>Temperature</th>\n",
       "      <th>TDS</th>\n",
       "      <th>PH</th>\n",
       "      <th>DO</th>\n",
       "    </tr>\n",
       "  </thead>\n",
       "  <tbody>\n",
       "    <tr>\n",
       "      <th>Temperature</th>\n",
       "      <td>1.000000</td>\n",
       "      <td>0.103749</td>\n",
       "      <td>0.650587</td>\n",
       "      <td>0.669232</td>\n",
       "    </tr>\n",
       "    <tr>\n",
       "      <th>TDS</th>\n",
       "      <td>0.103749</td>\n",
       "      <td>1.000000</td>\n",
       "      <td>-0.006967</td>\n",
       "      <td>-0.209506</td>\n",
       "    </tr>\n",
       "    <tr>\n",
       "      <th>PH</th>\n",
       "      <td>0.650587</td>\n",
       "      <td>-0.006967</td>\n",
       "      <td>1.000000</td>\n",
       "      <td>0.702880</td>\n",
       "    </tr>\n",
       "    <tr>\n",
       "      <th>DO</th>\n",
       "      <td>0.669232</td>\n",
       "      <td>-0.209506</td>\n",
       "      <td>0.702880</td>\n",
       "      <td>1.000000</td>\n",
       "    </tr>\n",
       "  </tbody>\n",
       "</table>\n",
       "</div>"
      ],
      "text/plain": [
       "             Temperature       TDS        PH        DO\n",
       "Temperature     1.000000  0.103749  0.650587  0.669232\n",
       "TDS             0.103749  1.000000 -0.006967 -0.209506\n",
       "PH              0.650587 -0.006967  1.000000  0.702880\n",
       "DO              0.669232 -0.209506  0.702880  1.000000"
      ]
     },
     "execution_count": 12,
     "metadata": {},
     "output_type": "execute_result"
    }
   ],
   "source": [
    "df.corr()\n"
   ]
  },
  {
   "cell_type": "code",
   "execution_count": 13,
   "id": "a7173ba0",
   "metadata": {},
   "outputs": [],
   "source": [
    "output=df[\"DO\"]\n",
    "df=df.drop(columns=[\"DO\"])"
   ]
  },
  {
   "cell_type": "code",
   "execution_count": 14,
   "id": "551cf667",
   "metadata": {},
   "outputs": [
    {
     "data": {
      "text/plain": [
       "<AxesSubplot:ylabel='TDS'>"
      ]
     },
     "execution_count": 14,
     "metadata": {},
     "output_type": "execute_result"
    },
    {
     "data": {
      "image/png": "[encoded data removed]",
      "text/plain": [
       "<Figure size 432x288 with 1 Axes>"
      ]
     },
     "metadata": {
      "needs_background": "light"
     },
     "output_type": "display_data"
    }
   ],
   "source": [
    "import seaborn as sns\n",
    "sns.boxplot(y='TDS',data=df)"
   ]
  },
  {
   "cell_type": "code",
   "execution_count": 15,
   "id": "4bdad5a4",
   "metadata": {},
   "outputs": [
    {
     "data": {
      "text/plain": [
       "Temperature    0\n",
       "TDS            0\n",
       "PH             0\n",
       "dtype: int64"
      ]
     },
     "execution_count": 15,
     "metadata": {},
     "output_type": "execute_result"
    }
   ],
   "source": [
    "df.isnull().sum()"
   ]
  },
  {
   "cell_type": "markdown",
   "id": "151e93cb",
   "metadata": {},
   "source": [
    "### performed feature scaling i.e  standardization"
   ]
  },
  {
   "cell_type": "code",
   "execution_count": 16,
   "id": "3d4fedff",
   "metadata": {},
   "outputs": [],
   "source": [
    "from sklearn.preprocessing import StandardScaler\n",
    "scaler = StandardScaler()\n",
    "scaler.fit(df)\n",
    "sdf=pd.DataFrame(scaler.transform(df))"
   ]
  },
  {
   "cell_type": "code",
   "execution_count": 17,
   "id": "9ea923df",
   "metadata": {},
   "outputs": [
    {
     "data": {
      "text/html": [
       "<div>\n",
       "<style scoped>\n",
       "    .dataframe tbody tr th:only-of-type {\n",
       "        vertical-align: middle;\n",
       "    }\n",
       "\n",
       "    .dataframe tbody tr th {\n",
       "        vertical-align: top;\n",
       "    }\n",
       "\n",
       "    .dataframe thead th {\n",
       "        text-align: right;\n",
       "    }\n",
       "</style>\n",
       "<table border=\"1\" class=\"dataframe\">\n",
       "  <thead>\n",
       "    <tr style=\"text-align: right;\">\n",
       "      <th></th>\n",
       "      <th>0</th>\n",
       "      <th>1</th>\n",
       "      <th>2</th>\n",
       "    </tr>\n",
       "  </thead>\n",
       "  <tbody>\n",
       "    <tr>\n",
       "      <th>0</th>\n",
       "      <td>2.387145</td>\n",
       "      <td>-1.921396</td>\n",
       "      <td>4.548814</td>\n",
       "    </tr>\n",
       "    <tr>\n",
       "      <th>1</th>\n",
       "      <td>2.387145</td>\n",
       "      <td>-1.921396</td>\n",
       "      <td>4.261494</td>\n",
       "    </tr>\n",
       "    <tr>\n",
       "      <th>2</th>\n",
       "      <td>2.337746</td>\n",
       "      <td>-1.921396</td>\n",
       "      <td>4.514564</td>\n",
       "    </tr>\n",
       "    <tr>\n",
       "      <th>3</th>\n",
       "      <td>2.387145</td>\n",
       "      <td>-1.921396</td>\n",
       "      <td>4.772688</td>\n",
       "    </tr>\n",
       "    <tr>\n",
       "      <th>4</th>\n",
       "      <td>2.387145</td>\n",
       "      <td>-1.921396</td>\n",
       "      <td>4.772688</td>\n",
       "    </tr>\n",
       "    <tr>\n",
       "      <th>...</th>\n",
       "      <td>...</td>\n",
       "      <td>...</td>\n",
       "      <td>...</td>\n",
       "    </tr>\n",
       "    <tr>\n",
       "      <th>1145</th>\n",
       "      <td>3.177534</td>\n",
       "      <td>0.304036</td>\n",
       "      <td>4.772688</td>\n",
       "    </tr>\n",
       "    <tr>\n",
       "      <th>1146</th>\n",
       "      <td>3.177534</td>\n",
       "      <td>0.260813</td>\n",
       "      <td>4.772688</td>\n",
       "    </tr>\n",
       "    <tr>\n",
       "      <th>1147</th>\n",
       "      <td>3.226933</td>\n",
       "      <td>0.554747</td>\n",
       "      <td>4.772688</td>\n",
       "    </tr>\n",
       "    <tr>\n",
       "      <th>1148</th>\n",
       "      <td>3.226933</td>\n",
       "      <td>0.568116</td>\n",
       "      <td>4.772688</td>\n",
       "    </tr>\n",
       "    <tr>\n",
       "      <th>1149</th>\n",
       "      <td>3.177534</td>\n",
       "      <td>0.246451</td>\n",
       "      <td>4.772688</td>\n",
       "    </tr>\n",
       "  </tbody>\n",
       "</table>\n",
       "<p>1150 rows × 3 columns</p>\n",
       "</div>"
      ],
      "text/plain": [
       "             0         1         2\n",
       "0     2.387145 -1.921396  4.548814\n",
       "1     2.387145 -1.921396  4.261494\n",
       "2     2.337746 -1.921396  4.514564\n",
       "3     2.387145 -1.921396  4.772688\n",
       "4     2.387145 -1.921396  4.772688\n",
       "...        ...       ...       ...\n",
       "1145  3.177534  0.304036  4.772688\n",
       "1146  3.177534  0.260813  4.772688\n",
       "1147  3.226933  0.554747  4.772688\n",
       "1148  3.226933  0.568116  4.772688\n",
       "1149  3.177534  0.246451  4.772688\n",
       "\n",
       "[1150 rows x 3 columns]"
      ]
     },
     "execution_count": 17,
     "metadata": {},
     "output_type": "execute_result"
    }
   ],
   "source": [
    "sdf"
   ]
  },
  {
   "cell_type": "markdown",
   "id": "d30e26f8",
   "metadata": {},
   "source": [
    "### divided data into training data(80%) and test data(20%)"
   ]
  },
  {
   "cell_type": "code",
   "execution_count": 18,
   "id": "b7653253",
   "metadata": {},
   "outputs": [],
   "source": [
    "from sklearn.model_selection import train_test_split\n",
    "X_train, X_test, y_train, y_test = train_test_split(sdf,output,test_size=0.2, random_state=42)"
   ]
  },
  {
   "cell_type": "markdown",
   "id": "bb7217ce",
   "metadata": {},
   "source": [
    "### after analyzed various machine learning models .random forest model is giving good results"
   ]
  },
  {
   "cell_type": "code",
   "execution_count": 24,
   "id": "06b2053e",
   "metadata": {},
   "outputs": [
    {
     "data": {
      "text/plain": [
       "0.9123123958403652"
      ]
     },
     "execution_count": 24,
     "metadata": {},
     "output_type": "execute_result"
    }
   ],
   "source": [
    "from sklearn.ensemble import RandomForestRegressor\n",
    "regressor = RandomForestRegressor(n_estimators = 100, random_state = 0)\n",
    "regressor.fit(X_train,y_train)\n",
    "regressor.score(X_test,y_test)"
   ]
  },
  {
   "cell_type": "code",
   "execution_count": 25,
   "id": "8f79cea9",
   "metadata": {},
   "outputs": [
    {
     "data": {
      "text/plain": [
       "array([2.5639    , 2.1433    , 3.0352    , 2.2076    , 3.19187   ,\n",
       "       2.3934    , 3.2569    , 3.1068    , 2.942     , 2.9715    ,\n",
       "       2.3298    , 3.3676    , 3.14166667, 2.9622    , 2.127     ,\n",
       "       2.9732    , 3.26082667, 2.9419    , 2.48642976, 3.37603571,\n",
       "       3.3926    , 3.1777    , 2.2927    , 3.66395214, 3.3812    ,\n",
       "       3.0806    , 3.4114    , 1.7505    , 5.5879    , 2.86935   ,\n",
       "       3.29045   , 6.501     , 1.9976    , 6.7769    , 2.07      ,\n",
       "       3.2422    , 5.7809    , 3.2738    , 3.0365    , 3.1392    ,\n",
       "       3.139     , 3.2056    , 4.2153    , 3.5667    , 3.576     ,\n",
       "       2.96956667, 2.2342    , 2.818     , 2.8665    , 3.03093333,\n",
       "       3.39746667, 3.2417    , 3.7492    , 6.7679    , 5.2611    ,\n",
       "       3.2543    , 2.5701    , 3.0254    , 3.6916    , 5.2269    ,\n",
       "       3.2504    , 1.9931    , 2.1437    , 2.8919    , 1.5894    ,\n",
       "       1.9994    , 2.9357    , 2.6385    , 2.87478667, 2.0736    ,\n",
       "       3.2257    , 3.0491    , 1.6163    , 2.532     , 3.32825238,\n",
       "       3.0034    , 6.1743    , 2.07945   , 2.0969    , 1.7585    ,\n",
       "       1.9343    , 1.8433    , 2.9824    , 2.6762    , 2.99      ,\n",
       "       2.96429   , 2.8921    , 2.9275    , 2.7346    , 2.9549    ,\n",
       "       1.81743333, 3.097     , 2.5016    , 3.0424    , 2.3227    ,\n",
       "       2.3979    , 3.2649    , 1.7739    , 3.50476   , 3.071965  ,\n",
       "       6.5761    , 2.3827    , 2.99573333, 5.2328    , 6.524     ,\n",
       "       1.7413    , 1.7423    , 4.1612    , 3.465     , 1.9562    ,\n",
       "       2.8527    , 4.0562    , 3.2521    , 3.1082    , 6.2046    ,\n",
       "       2.6927    , 3.3413    , 3.2608    , 3.346     , 3.04038333,\n",
       "       2.03789   , 3.0558    , 3.4404    , 2.61      , 9.93291419,\n",
       "       3.0622    , 2.7686    , 2.5958    , 3.7354    , 2.807     ,\n",
       "       3.2875    , 2.8452    , 2.9998    , 3.6248    , 3.46457   ,\n",
       "       3.2621    , 3.0259    , 3.5352    , 2.96465   , 1.86663333,\n",
       "       3.2102    , 2.3418    , 2.0962    , 3.1564    , 3.296     ,\n",
       "       3.78105833, 2.8333    , 2.43572167, 3.0357    , 3.1591    ,\n",
       "       1.953     , 6.4942    , 3.4067    , 3.61616   , 2.9563    ,\n",
       "       3.2806    , 3.0032    , 2.9418    , 2.4793    , 3.5132    ,\n",
       "       2.1042    , 4.1605    , 2.7881    , 2.8693    , 3.50881286,\n",
       "       3.47385   , 2.6169    , 2.5108    , 2.7948    , 2.8587    ,\n",
       "       3.5468    , 2.4722    , 3.1835    , 3.3584    , 2.396     ,\n",
       "       2.8698    , 2.0672    , 2.9468    , 3.7654    , 2.6704    ,\n",
       "       3.638725  , 3.1832    , 2.9071    , 3.2753    , 3.40575   ,\n",
       "       3.2322    , 2.5912    , 2.6407    , 2.5598    , 3.5231    ,\n",
       "       6.5813    , 2.49982   , 2.428     , 1.9524    , 3.5772    ,\n",
       "       2.4638    , 3.6057    , 3.4876    , 6.0975    , 2.0887    ,\n",
       "       5.7193    , 6.6751    , 3.519     , 2.09195   , 3.5648    ,\n",
       "       3.31896   , 2.7511    , 3.04073333, 2.572     , 3.0647    ,\n",
       "       2.9547    , 3.2288    , 9.48673333, 3.1145    , 3.1192    ,\n",
       "       2.8682    , 6.8295    , 2.0483    , 3.5158    , 3.63119   ,\n",
       "       2.9176    , 3.6221    , 2.0424    , 3.0945    , 2.8752    ,\n",
       "       2.9743    , 3.0445    , 2.9709    , 2.4412    , 3.1832    ])"
      ]
     },
     "execution_count": 25,
     "metadata": {},
     "output_type": "execute_result"
    }
   ],
   "source": [
    "pred=regressor.predict(X_test)\n",
    "pred"
   ]
  },
  {
   "cell_type": "markdown",
   "id": "72ce5249",
   "metadata": {},
   "source": [
    "### anay"
   ]
  },
  {
   "cell_type": "code",
   "execution_count": 226,
   "id": "bf6950f8",
   "metadata": {},
   "outputs": [],
   "source": [
    "from sklearn.metrics import mean_squared_error\n",
    "errors =mean_squared_error(pred,y_test)"
   ]
  },
  {
   "cell_type": "code",
   "execution_count": 227,
   "id": "cb30207a",
   "metadata": {},
   "outputs": [
    {
     "data": {
      "text/plain": [
       "0.12784684869971072"
      ]
     },
     "execution_count": 227,
     "metadata": {},
     "output_type": "execute_result"
    }
   ],
   "source": [
    "errors"
   ]
  },
  {
   "cell_type": "code",
   "execution_count": 196,
   "id": "02ed6f55",
   "metadata": {},
   "outputs": [],
   "source": [
    "import pickle\n",
    "# open a file, where you ant to store the data\n",
    "file = open('do.pkl', 'wb')\n",
    "file2=open(\"standard.pkl\",\"wb\")\n",
    "\n",
    "# dump information to that file\n",
    "pickle.dump(regressor,file)\n",
    "pickle.dump(scaler,file2)\n",
    "\n",
    "\n"
   ]
  },
  {
   "cell_type": "code",
   "execution_count": 197,
   "id": "cd9a3db8",
   "metadata": {},
   "outputs": [],
   "source": [
    "model = open('do.pkl','rb')\n",
    "model2=open('standard.pkl','rb')\n",
    "forest = pickle.load(model)\n"
   ]
  },
  {
   "cell_type": "code",
   "execution_count": 200,
   "id": "e04c990a",
   "metadata": {},
   "outputs": [],
   "source": [
    "forest2 = pickle.load(model2)\n",
    "y_prediction = forest.predict(X_test)\n",
    "errors =mean_squared_error(y_prediction,y_test)"
   ]
  },
  {
   "cell_type": "code",
   "execution_count": 199,
   "id": "da79090d",
   "metadata": {},
   "outputs": [
    {
     "data": {
      "text/plain": [
       "0.24068639305058145"
      ]
     },
     "execution_count": 199,
     "metadata": {},
     "output_type": "execute_result"
    }
   ],
   "source": [
    "errors"
   ]
  },
  {
   "cell_type": "code",
   "execution_count": 176,
   "id": "1e5ef396",
   "metadata": {},
   "outputs": [
    {
     "data": {
      "text/html": [
       "<div>\n",
       "<style scoped>\n",
       "    .dataframe tbody tr th:only-of-type {\n",
       "        vertical-align: middle;\n",
       "    }\n",
       "\n",
       "    .dataframe tbody tr th {\n",
       "        vertical-align: top;\n",
       "    }\n",
       "\n",
       "    .dataframe thead th {\n",
       "        text-align: right;\n",
       "    }\n",
       "</style>\n",
       "<table border=\"1\" class=\"dataframe\">\n",
       "  <thead>\n",
       "    <tr style=\"text-align: right;\">\n",
       "      <th></th>\n",
       "      <th>0</th>\n",
       "      <th>1</th>\n",
       "      <th>2</th>\n",
       "    </tr>\n",
       "  </thead>\n",
       "  <tbody>\n",
       "    <tr>\n",
       "      <th>174</th>\n",
       "      <td>-0.181618</td>\n",
       "      <td>0.396993</td>\n",
       "      <td>-0.187234</td>\n",
       "    </tr>\n",
       "    <tr>\n",
       "      <th>752</th>\n",
       "      <td>-0.181618</td>\n",
       "      <td>0.466277</td>\n",
       "      <td>-0.465043</td>\n",
       "    </tr>\n",
       "    <tr>\n",
       "      <th>467</th>\n",
       "      <td>-0.329815</td>\n",
       "      <td>0.459761</td>\n",
       "      <td>-0.179624</td>\n",
       "    </tr>\n",
       "    <tr>\n",
       "      <th>240</th>\n",
       "      <td>-0.181618</td>\n",
       "      <td>0.412955</td>\n",
       "      <td>-0.345167</td>\n",
       "    </tr>\n",
       "    <tr>\n",
       "      <th>667</th>\n",
       "      <td>-0.428614</td>\n",
       "      <td>0.448391</td>\n",
       "      <td>-0.242417</td>\n",
       "    </tr>\n",
       "    <tr>\n",
       "      <th>...</th>\n",
       "      <td>...</td>\n",
       "      <td>...</td>\n",
       "      <td>...</td>\n",
       "    </tr>\n",
       "    <tr>\n",
       "      <th>481</th>\n",
       "      <td>-0.329815</td>\n",
       "      <td>0.464646</td>\n",
       "      <td>-0.221484</td>\n",
       "    </tr>\n",
       "    <tr>\n",
       "      <th>359</th>\n",
       "      <td>-0.280416</td>\n",
       "      <td>0.453259</td>\n",
       "      <td>-0.200554</td>\n",
       "    </tr>\n",
       "    <tr>\n",
       "      <th>63</th>\n",
       "      <td>-0.478013</td>\n",
       "      <td>0.269402</td>\n",
       "      <td>-0.082582</td>\n",
       "    </tr>\n",
       "    <tr>\n",
       "      <th>388</th>\n",
       "      <td>-0.329815</td>\n",
       "      <td>0.459761</td>\n",
       "      <td>-0.240513</td>\n",
       "    </tr>\n",
       "    <tr>\n",
       "      <th>628</th>\n",
       "      <td>-0.428614</td>\n",
       "      <td>0.448391</td>\n",
       "      <td>-0.194846</td>\n",
       "    </tr>\n",
       "  </tbody>\n",
       "</table>\n",
       "<p>230 rows × 3 columns</p>\n",
       "</div>"
      ],
      "text/plain": [
       "            0         1         2\n",
       "174 -0.181618  0.396993 -0.187234\n",
       "752 -0.181618  0.466277 -0.465043\n",
       "467 -0.329815  0.459761 -0.179624\n",
       "240 -0.181618  0.412955 -0.345167\n",
       "667 -0.428614  0.448391 -0.242417\n",
       "..        ...       ...       ...\n",
       "481 -0.329815  0.464646 -0.221484\n",
       "359 -0.280416  0.453259 -0.200554\n",
       "63  -0.478013  0.269402 -0.082582\n",
       "388 -0.329815  0.459761 -0.240513\n",
       "628 -0.428614  0.448391 -0.194846\n",
       "\n",
       "[230 rows x 3 columns]"
      ]
     },
     "execution_count": 176,
     "metadata": {},
     "output_type": "execute_result"
    }
   ],
   "source": [
    "X_test"
   ]
  },
  {
   "cell_type": "code",
   "execution_count": 201,
   "id": "774fc7f0",
   "metadata": {},
   "outputs": [],
   "source": [
    "b=np.array([[30,127,7]])\n",
    "sb=pd.DataFrame(forest2.transform(b))"
   ]
  },
  {
   "cell_type": "code",
   "execution_count": 202,
   "id": "3129c5de",
   "metadata": {},
   "outputs": [
    {
     "data": {
      "text/html": [
       "<div>\n",
       "<style scoped>\n",
       "    .dataframe tbody tr th:only-of-type {\n",
       "        vertical-align: middle;\n",
       "    }\n",
       "\n",
       "    .dataframe tbody tr th {\n",
       "        vertical-align: top;\n",
       "    }\n",
       "\n",
       "    .dataframe thead th {\n",
       "        text-align: right;\n",
       "    }\n",
       "</style>\n",
       "<table border=\"1\" class=\"dataframe\">\n",
       "  <thead>\n",
       "    <tr style=\"text-align: right;\">\n",
       "      <th></th>\n",
       "      <th>0</th>\n",
       "      <th>1</th>\n",
       "      <th>2</th>\n",
       "    </tr>\n",
       "  </thead>\n",
       "  <tbody>\n",
       "    <tr>\n",
       "      <th>0</th>\n",
       "      <td>3.128134</td>\n",
       "      <td>0.293658</td>\n",
       "      <td>0.691856</td>\n",
       "    </tr>\n",
       "  </tbody>\n",
       "</table>\n",
       "</div>"
      ],
      "text/plain": [
       "          0         1         2\n",
       "0  3.128134  0.293658  0.691856"
      ]
     },
     "execution_count": 202,
     "metadata": {},
     "output_type": "execute_result"
    }
   ],
   "source": [
    "sb"
   ]
  },
  {
   "cell_type": "code",
   "execution_count": null,
   "id": "d650580c",
   "metadata": {},
   "outputs": [],
   "source": []
  }
 ],
 "metadata": {
  "kernelspec": {
   "display_name": "Python 3",
   "language": "python",
   "name": "python3"
  },
  "language_info": {
   "codemirror_mode": {
    "name": "ipython",
    "version": 3
   },
   "file_extension": ".py",
   "mimetype": "text/x-python",
   "name": "python",
   "nbconvert_exporter": "python",
   "pygments_lexer": "ipython3",
   "version": "3.8.8"
  }
 },
 "nbformat": 4,
 "nbformat_minor": 5
}
